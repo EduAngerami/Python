{
 "cells": [
  {
   "cell_type": "code",
   "execution_count": 1,
   "id": "4e8db52b",
   "metadata": {},
   "outputs": [],
   "source": [
    "import pandas as pd\n",
    "\n",
    "df = pd.read_csv('producao_dados.csv', sep=';') # Lê o arquivo CSV com separador \";\""
   ]
  },
  {
   "cell_type": "code",
   "execution_count": 2,
   "id": "20d99a7d",
   "metadata": {},
   "outputs": [
    {
     "data": {
      "application/vnd.microsoft.datawrangler.viewer.v0+json": {
       "columns": [
        {
         "name": "index",
         "rawType": "int64",
         "type": "integer"
        },
        {
         "name": "id_peca",
         "rawType": "int64",
         "type": "integer"
        },
        {
         "name": "temperatura",
         "rawType": "float64",
         "type": "float"
        },
        {
         "name": "diametro",
         "rawType": "float64",
         "type": "float"
        },
        {
         "name": "avaliacao_qualidade",
         "rawType": "object",
         "type": "string"
        }
       ],
       "ref": "7567fbf2-34bf-47bb-8102-11be3ba8638f",
       "rows": [
        [
         "0",
         "1",
         "25.5",
         "5.01",
         "aprovado"
        ],
        [
         "1",
         "2",
         "26.1",
         "5.03",
         "aprovado"
        ],
        [
         "2",
         "3",
         "24.9",
         "4.98",
         "aprovado"
        ],
        [
         "3",
         "4",
         "26.5",
         "5.05",
         "aprovado"
        ],
        [
         "4",
         "5",
         "23.8",
         "5.1",
         "reprovado"
        ]
       ],
       "shape": {
        "columns": 4,
        "rows": 5
       }
      },
      "text/html": [
       "<div>\n",
       "<style scoped>\n",
       "    .dataframe tbody tr th:only-of-type {\n",
       "        vertical-align: middle;\n",
       "    }\n",
       "\n",
       "    .dataframe tbody tr th {\n",
       "        vertical-align: top;\n",
       "    }\n",
       "\n",
       "    .dataframe thead th {\n",
       "        text-align: right;\n",
       "    }\n",
       "</style>\n",
       "<table border=\"1\" class=\"dataframe\">\n",
       "  <thead>\n",
       "    <tr style=\"text-align: right;\">\n",
       "      <th></th>\n",
       "      <th>id_peca</th>\n",
       "      <th>temperatura</th>\n",
       "      <th>diametro</th>\n",
       "      <th>avaliacao_qualidade</th>\n",
       "    </tr>\n",
       "  </thead>\n",
       "  <tbody>\n",
       "    <tr>\n",
       "      <th>0</th>\n",
       "      <td>1</td>\n",
       "      <td>25.5</td>\n",
       "      <td>5.01</td>\n",
       "      <td>aprovado</td>\n",
       "    </tr>\n",
       "    <tr>\n",
       "      <th>1</th>\n",
       "      <td>2</td>\n",
       "      <td>26.1</td>\n",
       "      <td>5.03</td>\n",
       "      <td>aprovado</td>\n",
       "    </tr>\n",
       "    <tr>\n",
       "      <th>2</th>\n",
       "      <td>3</td>\n",
       "      <td>24.9</td>\n",
       "      <td>4.98</td>\n",
       "      <td>aprovado</td>\n",
       "    </tr>\n",
       "    <tr>\n",
       "      <th>3</th>\n",
       "      <td>4</td>\n",
       "      <td>26.5</td>\n",
       "      <td>5.05</td>\n",
       "      <td>aprovado</td>\n",
       "    </tr>\n",
       "    <tr>\n",
       "      <th>4</th>\n",
       "      <td>5</td>\n",
       "      <td>23.8</td>\n",
       "      <td>5.10</td>\n",
       "      <td>reprovado</td>\n",
       "    </tr>\n",
       "  </tbody>\n",
       "</table>\n",
       "</div>"
      ],
      "text/plain": [
       "   id_peca  temperatura  diametro avaliacao_qualidade\n",
       "0        1         25.5      5.01            aprovado\n",
       "1        2         26.1      5.03            aprovado\n",
       "2        3         24.9      4.98            aprovado\n",
       "3        4         26.5      5.05            aprovado\n",
       "4        5         23.8      5.10           reprovado"
      ]
     },
     "execution_count": 2,
     "metadata": {},
     "output_type": "execute_result"
    }
   ],
   "source": [
    "df.head()   # Mostra as 5 primeiras linhas do DataFrame"
   ]
  },
  {
   "cell_type": "code",
   "execution_count": 3,
   "id": "77914e47",
   "metadata": {},
   "outputs": [
    {
     "name": "stdout",
     "output_type": "stream",
     "text": [
      "<class 'pandas.core.frame.DataFrame'>\n",
      "RangeIndex: 10 entries, 0 to 9\n",
      "Data columns (total 4 columns):\n",
      " #   Column               Non-Null Count  Dtype  \n",
      "---  ------               --------------  -----  \n",
      " 0   id_peca              10 non-null     int64  \n",
      " 1   temperatura          10 non-null     float64\n",
      " 2   diametro             10 non-null     float64\n",
      " 3   avaliacao_qualidade  10 non-null     object \n",
      "dtypes: float64(2), int64(1), object(1)\n",
      "memory usage: 452.0+ bytes\n"
     ]
    }
   ],
   "source": [
    "df.info()   # Mostra informações sobre o DataFrame"
   ]
  }
 ],
 "metadata": {
  "kernelspec": {
   "display_name": "qualidade_ia",
   "language": "python",
   "name": "python3"
  },
  "language_info": {
   "codemirror_mode": {
    "name": "ipython",
    "version": 3
   },
   "file_extension": ".py",
   "mimetype": "text/x-python",
   "name": "python",
   "nbconvert_exporter": "python",
   "pygments_lexer": "ipython3",
   "version": "3.14.0"
  }
 },
 "nbformat": 4,
 "nbformat_minor": 5
}
